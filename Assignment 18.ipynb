{
 "cells": [
  {
   "cell_type": "code",
   "execution_count": 1,
   "metadata": {},
   "outputs": [
    {
     "name": "stdout",
     "output_type": "stream",
     "text": [
      "Open 9-5 daily\n"
     ]
    }
   ],
   "source": [
    "def hours():\n",
    "    print(\"Open 9-5 daily\")\n",
    "    \n",
    "hours()"
   ]
  },
  {
   "cell_type": "code",
   "execution_count": null,
   "metadata": {},
   "outputs": [],
   "source": [
    "# Assignment 18 worked out on interpreter attached below"
   ]
  },
  {
   "cell_type": "markdown",
   "metadata": {},
   "source": [
    "Python 3.9.6 (tags/v3.9.6:db3ff76, Jun 28 2021, 15:26:21) [MSC v.1929 64 bit (AMD64)] on win32\n",
    "Type \"help\", \"copyright\", \"credits\" or \"license()\" for more information.\n",
    ">>> \n",
    "=================== RESTART: C:\\Users\\11477\\Downloads\\zoo.py ===================\n",
    "Open 9-5 daily\n",
    ">>> import zoo as menagerie\n",
    "Open 9-5 daily\n",
    ">>> hours()\n",
    "Open 9-5 daily\n",
    ">>> info = hours()\n",
    "Open 9-5 daily\n",
    ">>> info\n",
    ">>> info\n",
    ">>> print(info)\n",
    "None\n",
    ">>> import hours()  as info\n",
    "SyntaxError: invalid syntax\n",
    ">>> import hours as info\n",
    "Traceback (most recent call last):\n",
    "  File \"<pyshell#7>\", line 1, in <module>\n",
    "    import hours as info\n",
    "ModuleNotFoundError: No module named 'hours'\n",
    ">>> hours() as info\n",
    "SyntaxError: invalid syntax\n",
    ">>> import hours() as info\n",
    "SyntaxError: invalid syntax\n",
    ">>> import hours as info\n",
    "Traceback (most recent call last):\n",
    "  File \"<pyshell#10>\", line 1, in <module>\n",
    "    import hours as info\n",
    "ModuleNotFoundError: No module named 'hours'\n",
    ">>> s = dict('a':1, 'b':2, 'c':3)\n",
    "SyntaxError: invalid syntax\n",
    ">>> dict = {'a':1, 'b':2, 'c':3}\n",
    ">>> print(dict)\n",
    "{'a': 1, 'b': 2, 'c': 3}\n",
    ">>> Ordereddict =\n",
    "KeyboardInterrupt\n",
    ">>> Ordereddict = {'a':1, 'b':2, 'c':3}\n",
    ">>> print(ordereddict)\n",
    "Traceback (most recent call last):\n",
    "  File \"<pyshell#15>\", line 1, in <module>\n",
    "    print(ordereddict)\n",
    "NameError: name 'ordereddict' is not defined\n",
    ">>> print(ordereddict)\n",
    "Traceback (most recent call last):\n",
    "  File \"<pyshell#16>\", line 1, in <module>\n",
    "    print(ordereddict)\n",
    "NameError: name 'ordereddict' is not defined\n",
    ">>> OrderedDict = {'a':1, 'b':2, 'c':3}\n",
    ">>> print(OrderedDict)\n",
    "{'a': 1, 'b': 2, 'c': 3}\n",
    ">>> # yes it prints in the same order as plain\n",
    ">>> dict_of_lists = {['a'] : ['something']}\n",
    "Traceback (most recent call last):\n",
    "  File \"<pyshell#20>\", line 1, in <module>\n",
    "    dict_of_lists = {['a'] : ['something']}\n",
    "TypeError: unhashable type: 'list'\n",
    ">>> dict_of_lists = {'a' : ['something']}\n",
    ">>> dict_lists['a']\n",
    "Traceback (most recent call last):\n",
    "  File \"<pyshell#22>\", line 1, in <module>\n",
    "    dict_lists['a']\n",
    "NameError: name 'dict_lists' is not defined\n",
    ">>> dict_of_lists['a']\n",
    "['something']\n",
    ">>> "
   ]
  }
 ],
 "metadata": {
  "kernelspec": {
   "display_name": "Python 3",
   "language": "python",
   "name": "python3"
  },
  "language_info": {
   "codemirror_mode": {
    "name": "ipython",
    "version": 3
   },
   "file_extension": ".py",
   "mimetype": "text/x-python",
   "name": "python",
   "nbconvert_exporter": "python",
   "pygments_lexer": "ipython3",
   "version": "3.6.5"
  }
 },
 "nbformat": 4,
 "nbformat_minor": 2
}
