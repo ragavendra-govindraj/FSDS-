{
 "cells": [
  {
   "cell_type": "markdown",
   "metadata": {},
   "source": [
    "1) What advantages do Excel spreadsheets have over CSV spreadsheets?\n"
   ]
  },
  {
   "cell_type": "markdown",
   "metadata": {},
   "source": [
    "Ans 1) CSVs differ from excel spreadsheet file types in that you can only have a single sheet in a file, they can not save cell, column, or row styling, and can not save formulas."
   ]
  },
  {
   "cell_type": "markdown",
   "metadata": {},
   "source": [
    "2) What do you pass to csv.reader() and csv.writer() to create reader and writer objects?"
   ]
  },
  {
   "cell_type": "markdown",
   "metadata": {},
   "source": [
    "Ans 2) For reader: we pass as follows \n",
    " reader = csv.reader(file, delimiter = '\\t')\n",
    " Then, the csv.reader() is used to read the file, which returns an iterable reader object.\n",
    "The reader object is then iterated using a for loop to print the contents of each row.\n",
    "\n",
    "For writer:\n",
    "writer = csv.writer(file)\n",
    "The csv.writer() function returns a writer object that converts the user's data into a delimited string. This string can later be used to write into CSV files using the writerow() function."
   ]
  },
  {
   "cell_type": "markdown",
   "metadata": {},
   "source": [
    "3) What modes do File objects for reader and writer objects need to be opened in?"
   ]
  },
  {
   "cell_type": "markdown",
   "metadata": {},
   "source": [
    "Ans 3) 'r'- For readong\n",
    "        'w'- For writing\n",
    "        \n",
    "        f = open(\"pytube1.py\", mode = \"r\", encoding = 'utf-8')\n",
    "        \n",
    "        f = open(\"textfile.txt\", \"w\")\n",
    ">>> #above will create a file named textfile.txt in your default directory\n",
    ">>> f.write(\"Hello, Python\")"
   ]
  },
  {
   "cell_type": "markdown",
   "metadata": {},
   "source": [
    "4) What method takes a list argument and writes it to a CSV file?"
   ]
  },
  {
   "cell_type": "markdown",
   "metadata": {},
   "source": [
    "Ans 4) The writerow method\n",
    "\n",
    "import csv\n",
    "\n",
    "with open('students.csv', 'w', newline='') as student_file:\n",
    "    writer = csv.writer(student_file)\n",
    "    writer.writerow([\"RollNo\", \"Name\", \"Subject\"])\n",
    "    writer.writerow([1, \"ABC\", \"Economics\"])\n",
    "    writer.writerow([2, \"TUV\", \"Arts\"])\n",
    "    writer.writerow([3, \"XYZ\", \"Python\"])"
   ]
  },
  {
   "cell_type": "markdown",
   "metadata": {},
   "source": [
    "5) What do the keyword arguments delimiter and line terminator do?"
   ]
  },
  {
   "cell_type": "markdown",
   "metadata": {},
   "source": [
    "Ans 5) Passing delimeter='\\t' and lineterminator='\\n\\n', changes the character between cells to a tab and the character between rows to two newlines, respectively\n",
    "\n",
    "The delimiter is the character that appears between cells on a row. By default, the delimiter for a CSV file is a comma. The line terminator is the character that comes at the end of a row. By default, the line terminator is a newline. You can change characters to different values by using the delimiter and lineterminator keyword arguments with csv.writer()."
   ]
  },
  {
   "cell_type": "markdown",
   "metadata": {},
   "source": [
    "6) What function takes a string of JSON data and returns a Python data structure?"
   ]
  },
  {
   "cell_type": "markdown",
   "metadata": {},
   "source": [
    "Ans 6) We can convert JSON string to Python by using json.loads()"
   ]
  },
  {
   "cell_type": "markdown",
   "metadata": {},
   "source": [
    "7) What function takes a Python data structure and returns a string of JSON data?"
   ]
  },
  {
   "cell_type": "markdown",
   "metadata": {},
   "source": [
    "Ans 7) A Python object can be converted to JSON string by using json.dumps()\n"
   ]
  },
  {
   "cell_type": "code",
   "execution_count": null,
   "metadata": {},
   "outputs": [],
   "source": []
  }
 ],
 "metadata": {
  "kernelspec": {
   "display_name": "Python 3",
   "language": "python",
   "name": "python3"
  },
  "language_info": {
   "codemirror_mode": {
    "name": "ipython",
    "version": 3
   },
   "file_extension": ".py",
   "mimetype": "text/x-python",
   "name": "python",
   "nbconvert_exporter": "python",
   "pygments_lexer": "ipython3",
   "version": "3.6.5"
  }
 },
 "nbformat": 4,
 "nbformat_minor": 2
}
