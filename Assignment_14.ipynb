{
 "cells": [
  {
   "cell_type": "markdown",
   "metadata": {},
   "source": [
    "1) What does RGBA stand for?"
   ]
  },
  {
   "cell_type": "markdown",
   "metadata": {},
   "source": [
    "Ans 1) RGB is a 3-channel format containing data for Red, Green, and Blue. RGBA is a 4-channel format containing data for Red, Green, Blue, and Alpha. There is no use to the Alpha channel other than making the color transparent/opaque (or partially transparent; translucent)"
   ]
  },
  {
   "cell_type": "markdown",
   "metadata": {},
   "source": [
    "2) From the Pillow module, how do you get the RGBA value of any images?"
   ]
  },
  {
   "cell_type": "markdown",
   "metadata": {},
   "source": [
    "Ans 2)  PIL.Image.Image.getpixel() \n",
    " PIL.Image.Image.getpixel((x, y)) with x as the x-coordinate and y as the y-coordinate of the pixel to return a tuple of the red, green, and blue values."
   ]
  },
  {
   "cell_type": "markdown",
   "metadata": {},
   "source": [
    "3) What is a box tuple, and how does it work?"
   ]
  },
  {
   "cell_type": "markdown",
   "metadata": {},
   "source": [
    "Ans 3) Many of Pillow’s functions and methods take a box tuple argument. This means Pillow is expecting a tuple of four integer coordinates that represent a rectangular region in an image. The four integers are, in order, as follows:\n",
    "\n",
    "Left The x-coordinate of the leftmost edge of the box.\n",
    "\n",
    "Top The y-coordinate of the top edge of the box.\n",
    "\n",
    "Right The x-coordinate of one pixel to the right of the rightmost edge of the box. This integer must be greater than the left integer.\n",
    "\n",
    "Bottom The y-coordinate of one pixel lower than the bottom edge of the box. This integer must be greater than the top integer.\n",
    "\n",
    "Note that the box includes the left and top coordinates and goes up to but does not include the right and bottom coordinates. For example, the box tuple (3, 1, 9, 6) represents all the pixels in the black box"
   ]
  },
  {
   "cell_type": "markdown",
   "metadata": {},
   "source": [
    "4) Use your image and load in notebook then, How can you find out the width and height of an\n",
    "Image object?"
   ]
  },
  {
   "cell_type": "markdown",
   "metadata": {},
   "source": [
    "Ans 4) image = PIL.Image.open(\"sample.png\")\n",
    "image to open\n",
    "\n",
    "width, height = image.size\n",
    "#extract width and height from output tuple\n",
    "\n",
    "print(width, height)"
   ]
  },
  {
   "cell_type": "markdown",
   "metadata": {},
   "source": [
    "5) What method would you call to get Image object for a 100×100 image, excluding the lower-left\n",
    "quarter of it?"
   ]
  },
  {
   "cell_type": "markdown",
   "metadata": {},
   "source": [
    "Ans 5) we would use image.crop(x,y,z,a) method"
   ]
  },
  {
   "cell_type": "markdown",
   "metadata": {},
   "source": [
    "6)After making changes to an Image object, how could you save it as an image file?"
   ]
  },
  {
   "cell_type": "markdown",
   "metadata": {},
   "source": [
    "Ans 6) using image.save method, like below\n",
    "\n",
    "im_crop_outside = im.crop((200, 150, 600, 360))\n",
    "im_crop_outside.save('data/dst/astronaut_pillow_crop_outside.jpg', quality=95)"
   ]
  },
  {
   "cell_type": "markdown",
   "metadata": {},
   "source": [
    "7) What module contains Pillow’s shape-drawing code?"
   ]
  },
  {
   "cell_type": "markdown",
   "metadata": {},
   "source": [
    "Ans 7) The ‘ImageDraw’ module provides simple 2D graphics support for Image Object. Generally, we use this module to create new images, annotate or retouch existing images and to generate graphics on the fly for web use."
   ]
  },
  {
   "cell_type": "markdown",
   "metadata": {},
   "source": [
    "8) Image objects do not have drawing methods. What kind of object does? How do you get this kind\n",
    "of object?"
   ]
  },
  {
   "cell_type": "markdown",
   "metadata": {},
   "source": [
    "Ans 8)The ‘ImageDraw’ module provides simple 2D graphics support for Image Object\n",
    "\n",
    "It is imported as ImageDraw and used as below.\n",
    "\n",
    "Import required libraries\n",
    "import sys\n",
    "from PIL import Image, ImageDraw\n",
    "\n",
    "#Create Image object\n",
    "im = Image.open(\"images/logo.jpg\")\n",
    "\n",
    "#Draw line\n",
    "draw = ImageDraw.Draw(im)\n",
    "draw.line((0, 0) + im.size, fill=128)\n",
    "draw.line((0, im.size[1], im.size[0], 0), fill=128)\n",
    "\n",
    "#Show image\n",
    "im.show()\n"
   ]
  }
 ],
 "metadata": {
  "kernelspec": {
   "display_name": "Python 3",
   "language": "python",
   "name": "python3"
  },
  "language_info": {
   "codemirror_mode": {
    "name": "ipython",
    "version": 3
   },
   "file_extension": ".py",
   "mimetype": "text/x-python",
   "name": "python",
   "nbconvert_exporter": "python",
   "pygments_lexer": "ipython3",
   "version": "3.6.5"
  }
 },
 "nbformat": 4,
 "nbformat_minor": 2
}
