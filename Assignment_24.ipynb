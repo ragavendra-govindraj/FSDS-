{
 "cells": [
  {
   "cell_type": "markdown",
   "metadata": {},
   "source": [
    "1) What is the relationship between def statements and lambda expressions"
   ]
  },
  {
   "cell_type": "markdown",
   "metadata": {},
   "source": [
    "Ans 1)"
   ]
  },
  {
   "cell_type": "markdown",
   "metadata": {},
   "source": [
    "The only difference is that (a) the body of a lambda can consist of only a single expressan expression which evaluates to a function object, while a def statement has no value, and creates a funion, the result of which is returned from the function created and (b) a lambda expression is ction object and binds it to a name.\n",
    "\n",
    "In all other material respects they result in identical objects - the same scope and capture rules apply. (Immaterial differences are that lambda-created functions have a default func_name of \"<lambda>\". This may affect operation in esoteric cases - e.g. attempts to pickle functions.)."
   ]
  },
  {
   "cell_type": "markdown",
   "metadata": {},
   "source": [
    "Defining a function\n",
    "    def add(a,b):\n",
    "      return a+b\n",
    "    print(add(4,5))"
   ]
  },
  {
   "cell_type": "markdown",
   "metadata": {},
   "source": [
    "Defining a lambda\n",
    "    add = lambda x, y : x + y \n",
    "    print(add(4,5))"
   ]
  },
  {
   "cell_type": "markdown",
   "metadata": {},
   "source": [
    "2) What is the benefit of lambda?"
   ]
  },
  {
   "cell_type": "markdown",
   "metadata": {},
   "source": [
    "Ans 2)"
   ]
  },
  {
   "cell_type": "markdown",
   "metadata": {},
   "source": [
    "The lambda keyword in Python provides a shortcut for declaring small anonymous functions. Lambda functions behave just like regular functions declared with the def keyword. They can be used whenever function objects are required."
   ]
  },
  {
   "cell_type": "markdown",
   "metadata": {},
   "source": [
    "3) Compare and contrast map, filter, and reduce."
   ]
  },
  {
   "cell_type": "markdown",
   "metadata": {},
   "source": [
    "Ans 3) "
   ]
  },
  {
   "cell_type": "markdown",
   "metadata": {},
   "source": [
    "The map() Function\n",
    "The map() function iterates through all items in the given iterable and executes the function we passed as an argument on each of them.\n",
    "\n",
    "The syntax is:\n",
    "\n",
    "map(function, iterable(s))\n",
    "\n",
    "The filter() Function\n",
    "\n",
    "Similar to map(), filter() takes a function object and an iterable and creates a new list.\n",
    "\n",
    "As the name suggests, filter() forms a new list that contains only elements that satisfy a certain condition, i.e. the function we passed returns True.\n",
    "\n",
    "The syntax is:\n",
    "\n",
    "filter(function, iterable(s))\n",
    "\n",
    "The reduce() Function\n",
    "\n",
    "reduce() works differently than map() and filter(). It does not return a new list based on the function and iterable we've passed. Instead, it returns a single value.\n",
    "\n",
    "Also, in Python 3 reduce() isn't a built-in function anymore, and it can be found in the functools module.\n",
    "\n",
    "The syntax is:\n",
    "\n",
    "reduce(function, sequence[, initial])\n",
    "reduce() works by calling the function we passed for the first two items in the sequence. The result returned by the function is used in another call to function alongside with the next (third in this case), element.\n",
    "\n",
    "This process repeats until we've gone through all the elements in the sequence.\n",
    "\n",
    "The optional argument initial is used, when present, at the beginning of this \"loop\" with the first element in the first call to function. In a way, the initial element is the 0th element, before the first one, when provided."
   ]
  },
  {
   "cell_type": "markdown",
   "metadata": {},
   "source": [
    "4) What are function annotations, and how are they used?"
   ]
  },
  {
   "cell_type": "markdown",
   "metadata": {},
   "source": [
    "Ans 4)"
   ]
  },
  {
   "cell_type": "markdown",
   "metadata": {},
   "source": [
    "What are Function annotations?\n",
    "\n",
    "Function annotations are arbitrary python expressions that are associated with various part of functions. These expressions are evaluated at compile time and have no life in python’s runtime environment. Python does not attach any meaning to these annotations. They take life when interpreted by third party libraries, for example, mypy.\n",
    "\n",
    "Purpose of function annotations:\n",
    "The benefits from function annotations can only be reaped via third party libraries. The type of benefits depends upon the type of the library, for example\n",
    "\n",
    "Python supports dynamic typing and hence no module is provided for type checking. Annotations like\n",
    "[def foo(a:”int”, b:”float”=5.0)  -> ”int”]"
   ]
  },
  {
   "cell_type": "markdown",
   "metadata": {},
   "source": [
    "5) What are recursive functions, and how are they used?"
   ]
  },
  {
   "cell_type": "markdown",
   "metadata": {},
   "source": [
    "Ans 5) "
   ]
  },
  {
   "cell_type": "markdown",
   "metadata": {},
   "source": [
    "A recursive function is a function that calls itself during its execution. The process may repeat several times, outputting the result and the end of each iteration. The function Count() below uses recursion to count from any number between 1 and 9, to the number 10.\n",
    "\n",
    "The function Count() below uses recursion to count from any number between 1 and 9, to the number 10. For example, Count(1) would return 2,3,4,5,6,7,8,9,10. Count(7) would return 8,9,10. The result could be used as a roundabout way to subtract the number from 10.\n",
    "\n",
    "function Count (integer N)\n",
    "    if (N <= 0) return \"Must be a Positive Integer\";\n",
    "    if (N > 9) return \"Counting Completed\";\n",
    "    else return Count (N+1);\n",
    "end function\n",
    "\n"
   ]
  },
  {
   "cell_type": "markdown",
   "metadata": {},
   "source": [
    "6) What are some general design guidelines for coding functions?"
   ]
  },
  {
   "cell_type": "markdown",
   "metadata": {},
   "source": [
    "Ans 6)"
   ]
  },
  {
   "cell_type": "markdown",
   "metadata": {},
   "source": [
    "Limited use of globals\n",
    "Standard headers for different modules\n",
    "Naming conventions for local variables, global variables, constants and functions:\n",
    "Indentation:\n",
    "Error return values and exception handling conventions:\n",
    "Avoid using a coding style that is too difficult to understand:\n",
    "Avoid using an identifier for multiple purposes:\n",
    "Code should be well documented:\n",
    "Length of functions should not be very large:\n",
    "Try not to use GOTO statement:"
   ]
  },
  {
   "cell_type": "markdown",
   "metadata": {},
   "source": [
    "7) Name three or more ways that functions can communicate results to a caller."
   ]
  },
  {
   "cell_type": "markdown",
   "metadata": {},
   "source": [
    "Ans 7) "
   ]
  },
  {
   "cell_type": "code",
   "execution_count": null,
   "metadata": {},
   "outputs": [],
   "source": [
    "Function can return single value\n",
    "Can return multiple values, tuple\n",
    "can return list,dictionary\n",
    "can return function object\n",
    "can return class object"
   ]
  }
 ],
 "metadata": {
  "kernelspec": {
   "display_name": "Python 3",
   "language": "python",
   "name": "python3"
  },
  "language_info": {
   "codemirror_mode": {
    "name": "ipython",
    "version": 3
   },
   "file_extension": ".py",
   "mimetype": "text/x-python",
   "name": "python",
   "nbconvert_exporter": "python",
   "pygments_lexer": "ipython3",
   "version": "3.6.5"
  }
 },
 "nbformat": 4,
 "nbformat_minor": 2
}
